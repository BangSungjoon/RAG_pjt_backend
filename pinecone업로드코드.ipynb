{
  "nbformat": 4,
  "nbformat_minor": 0,
  "metadata": {
    "colab": {
      "provenance": []
    },
    "kernelspec": {
      "name": "python3",
      "display_name": "Python 3"
    },
    "language_info": {
      "name": "python"
    }
  },
  "cells": [
    {
      "cell_type": "code",
      "execution_count": null,
      "metadata": {
        "id": "Ew-G2rMK3wju"
      },
      "outputs": [],
      "source": [
        "# langchain, upstage, ragas 설치\n",
        "!pip install -qU openai langchain langchain-upstage getpass4"
      ]
    },
    {
      "cell_type": "code",
      "source": [
        "# pinecone 설치\n",
        "!pip install pinecone-client"
      ],
      "metadata": {
        "id": "RdPgUi-S4GjU"
      },
      "execution_count": null,
      "outputs": []
    },
    {
      "cell_type": "code",
      "source": [
        "import os\n",
        "import getpass\n",
        "import warnings\n",
        "\n",
        "warnings.filterwarnings(\"ignore\")\n",
        "\n",
        "# Upstage API key 입력할 것\n",
        "try:\n",
        "    if \"UPSTAGE_API_KEY\" not in os.environ or not os.environ[\"UPSTAGE_API_KEY\"]:\n",
        "        os.environ[\"UPSTAGE_API_KEY\"] = getpass.getpass(\"Enter your Upstage API key: \")\n",
        "\n",
        "    print(\"API key has been set successfully.\")\n",
        "\n",
        "except:\n",
        "    print(\"Something wrong with your API KEY. Check your API Console again.\")"
      ],
      "metadata": {
        "id": "Yb4m4vSj33Qk"
      },
      "execution_count": null,
      "outputs": []
    },
    {
      "cell_type": "code",
      "source": [
        "from pinecone import Pinecone\n",
        "from langchain_upstage import UpstageEmbeddings\n",
        "\n",
        "# Pinecone API 키 설정\n",
        "try:\n",
        "    if \"PINECONE_API_KEY\" not in os.environ or not os.environ[\"PINECONE_API_KEY\"]:\n",
        "        os.environ[\"PINECONE_API_KEY\"] = getpass.getpass(\"Enter your Pinecone API key: \")\n",
        "\n",
        "    print(\"Pinecone API key has been set successfully.\")\n",
        "except Exception as e:\n",
        "    print(f\"Error while setting Pinecone API key: {e}\")\n",
        "    raise\n",
        "\n",
        "# Pinecone Index 이름\n",
        "index_name = \"kb-docs\"  # 기존에 생성된 Index 이름\n",
        "\n",
        "# Pinecone 초기화\n",
        "pc = Pinecone(api_key=os.environ[\"PINECONE_API_KEY\"])\n",
        "index = pc.Index(index_name)  # 기존 Index 가져오기"
      ],
      "metadata": {
        "id": "sVqeqpUN8jP2"
      },
      "execution_count": null,
      "outputs": []
    },
    {
      "cell_type": "code",
      "source": [
        "from langchain_upstage import UpstageDocumentParseLoader\n",
        "\n",
        "def change_pdfs_to_docs(folder_name_, file_detail_):\n",
        "  folder_path = \"/content/\" + folder_name_  # Colab의 루트 디렉토리 하위에 deposit 폴더 생성\n",
        "  file_detail = file_detail_\n",
        "\n",
        "  # 'deposit' 폴더의 모든 PDF 파일 탐색\n",
        "  pdf_files = [os.path.join(folder_path, file) for file in os.listdir(folder_path) if file.endswith('.pdf')]\n",
        "\n",
        "  # PDF 파일 로드 및 파일 이름 저장\n",
        "  docs = []\n",
        "  for pdf_file in pdf_files:\n",
        "      # 파일 이름 추출\n",
        "      file_name = os.path.basename(pdf_file)\n",
        "\n",
        "      # PDF 로드\n",
        "      layzer = UpstageDocumentParseLoader(\n",
        "          pdf_file,\n",
        "          output_format='text',  # 결과물 형태 : text\n",
        "          coordinates=False  # 이미지 OCR 좌표계를 가져오지 않음\n",
        "      )\n",
        "      file_docs = layzer.load()\n",
        "\n",
        "      # 각 문서에 파일 이름 메타데이터 추가\n",
        "      for doc in file_docs:\n",
        "          doc.metadata[\"file_name\"] = file_name\n",
        "          doc.metadata[\"file_detail\"] = file_detail\n",
        "\n",
        "      # 전체 문서 리스트에 추가\n",
        "      docs.extend(file_docs)\n",
        "\n",
        "  return docs\n",
        "  # 로드된 결과 확인\n",
        "  print(f\"총 {len(docs)}개의 문서를 처리했습니다.\")"
      ],
      "metadata": {
        "id": "Yl-yD5aW4C8U"
      },
      "execution_count": null,
      "outputs": []
    },
    {
      "cell_type": "code",
      "source": [
        "from langchain.text_splitter import RecursiveCharacterTextSplitter\n",
        "\n",
        "def change_docs_to_splits(docs_):\n",
        "  # Text Splitter 설정\n",
        "  text_splitter = RecursiveCharacterTextSplitter(\n",
        "      chunk_size=1000,    # 각 청크의 최대 크기\n",
        "      chunk_overlap=100   # 청크 간 중첩\n",
        "  )\n",
        "\n",
        "  # Splits 생성 및 메타데이터 추가\n",
        "  splits = []\n",
        "  for doc in docs_:\n",
        "      # 문서를 청크로 분리\n",
        "      split_chunks = text_splitter.split_documents([doc])\n",
        "\n",
        "      # 각 청크에 원래 문서의 메타데이터 추가\n",
        "      for chunk in split_chunks:\n",
        "          chunk.metadata.update(doc.metadata)\n",
        "\n",
        "      # 전체 Splits에 추가\n",
        "      splits.extend(split_chunks)\n",
        "\n",
        "  return splits\n",
        "  # 결과 확인\n",
        "  print(\"Splits:\", len(splits))"
      ],
      "metadata": {
        "id": "8s8A0Jpw8IiW"
      },
      "execution_count": null,
      "outputs": []
    },
    {
      "cell_type": "code",
      "source": [
        "def upload_splits_to_index(splits_):\n",
        "\n",
        "  stats = index.describe_index_stats()\n",
        "  last_record_count = stats['total_vector_count']\n",
        "\n",
        "  # Solar-Embedding 모델 로드\n",
        "  embedding_model = UpstageEmbeddings(model=\"solar-embedding-1-large\")\n",
        "\n",
        "  # Splits 데이터를 벡터화하여 Pinecone에 업로드\n",
        "  vectors = []\n",
        "  for i, split in enumerate(splits_):\n",
        "      # Solar-Embedding으로 벡터화\n",
        "      vector = embedding_model.embed_query(split.page_content)\n",
        "\n",
        "      # Pinecone에 저장할 데이터 구성\n",
        "      metadata = split.metadata\n",
        "      metadata[\"text\"] = split.page_content  # 청크 내용을 메타데이터에 포함\n",
        "\n",
        "      vectors.append({\n",
        "          \"id\": f\"split-{last_record_count + i + 1}\",  # 고유 ID 설정\n",
        "          \"values\": vector,    # 벡터 값\n",
        "          \"metadata\": metadata # 메타데이터\n",
        "      })\n",
        "\n",
        "  # Pinecone에 데이터 업로드 (namespace 옵션 추가 가능)\n",
        "  namespace = \"kb_namespace\"  # 원하는 namespace 설정\n",
        "  index.upsert(vectors=vectors, namespace=namespace)\n",
        "\n",
        "  uploaded_record_count = len(vectors)\n",
        "\n",
        "  print(f\"{uploaded_record_count} 개의 Splits 데이터를 '{index_name}' Index에 업로드 완료 (namespace: {namespace})!\")"
      ],
      "metadata": {
        "id": "ATYvrXAl8for"
      },
      "execution_count": null,
      "outputs": []
    },
    {
      "cell_type": "code",
      "source": [
        "doc1 = change_pdfs_to_docs(\"담보대출2\", \"담보대출\")\n",
        "split1 = change_docs_to_splits(doc1)\n",
        "upload_splits_to_index(split1)"
      ],
      "metadata": {
        "id": "tPiaPXPc9CNc"
      },
      "execution_count": null,
      "outputs": []
    }
  ]
}